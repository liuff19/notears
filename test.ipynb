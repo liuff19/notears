{
 "cells": [
  {
   "cell_type": "code",
   "execution_count": 7,
   "metadata": {},
   "outputs": [],
   "source": [
    "import numpy as np\n",
    "\n",
    "data_sachs = np.loadtxt('/opt/data2/git_fangfu/notears/sachs.csv', delimiter=',')"
   ]
  },
  {
   "cell_type": "code",
   "execution_count": 8,
   "metadata": {},
   "outputs": [
    {
     "name": "stdout",
     "output_type": "stream",
     "text": [
      "(853, 11)\n"
     ]
    }
   ],
   "source": [
    "print(data_sachs.shape)"
   ]
  },
  {
   "cell_type": "code",
   "execution_count": 9,
   "metadata": {},
   "outputs": [
    {
     "data": {
      "text/plain": [
       "array([ 26.4 ,  13.2 ,   8.82,  18.3 ,  58.8 ,   6.61,  17.  , 414.  ,\n",
       "        17.  ,  44.9 ,  40.  ])"
      ]
     },
     "execution_count": 9,
     "metadata": {},
     "output_type": "execute_result"
    }
   ],
   "source": [
    "data_sachs[0]"
   ]
  },
  {
   "cell_type": "code",
   "execution_count": 10,
   "metadata": {},
   "outputs": [
    {
     "name": "stdout",
     "output_type": "stream",
     "text": [
      "(848, 11)\n"
     ]
    }
   ],
   "source": [
    "easy_list = [802, 673, 317, 192, 167]\n",
    "data_sachs_easy = np.delete(data_sachs, easy_list, axis=0)\n",
    "print(data_sachs_easy.shape)\n"
   ]
  },
  {
   "cell_type": "code",
   "execution_count": null,
   "metadata": {},
   "outputs": [],
   "source": [
    "np.savetxt('/opt/data2/git_fangfu/notears/sachs_no_easy.csv', data_sachs, delimiter=',')"
   ]
  },
  {
   "cell_type": "code",
   "execution_count": 5,
   "metadata": {},
   "outputs": [
    {
     "name": "stdout",
     "output_type": "stream",
     "text": [
      "(846, 11)\n"
     ]
    }
   ],
   "source": [
    "hard_list  = [748, 181, 276, 151, 355, 137, 846]\n",
    "# 从data_sachs中删除hard_list中的行\n",
    "data_sachs = np.delete(data_sachs, hard_list, axis=0)\n",
    "print(data_sachs.shape)"
   ]
  },
  {
   "cell_type": "code",
   "execution_count": 6,
   "metadata": {},
   "outputs": [],
   "source": [
    "# 将这个data_sachs重新保存为csv文件\n",
    "np.savetxt('/opt/data2/git_fangfu/notears/sachs_no_hard.csv', data_sachs, delimiter=',')"
   ]
  }
 ],
 "metadata": {
  "kernelspec": {
   "display_name": "Python 3.7.12 ('media')",
   "language": "python",
   "name": "python3"
  },
  "language_info": {
   "codemirror_mode": {
    "name": "ipython",
    "version": 3
   },
   "file_extension": ".py",
   "mimetype": "text/x-python",
   "name": "python",
   "nbconvert_exporter": "python",
   "pygments_lexer": "ipython3",
   "version": "3.7.12"
  },
  "orig_nbformat": 4,
  "vscode": {
   "interpreter": {
    "hash": "e34e26b3389a077e33e1973f9fc2a56fc4157cfe424c8fba9bf63b22df037533"
   }
  }
 },
 "nbformat": 4,
 "nbformat_minor": 2
}
